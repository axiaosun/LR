{
 "cells": [
  {
   "cell_type": "code",
   "execution_count": 1,
   "metadata": {},
   "outputs": [],
   "source": [
    "import pandas as pd\n",
    "import numpy as np\n",
    "import seaborn as sns\n",
    "\n",
    "import matplotlib.pyplot as plt"
   ]
  },
  {
   "cell_type": "code",
   "execution_count": 2,
   "metadata": {},
   "outputs": [],
   "source": [
    "train = pd.read_csv('train.csv')\n",
    "test = pd.read_csv('test.csv')"
   ]
  },
  {
   "cell_type": "code",
   "execution_count": 3,
   "metadata": {},
   "outputs": [
    {
     "name": "stdout",
     "output_type": "stream",
     "text": [
      "282451\n",
      "139119\n"
     ]
    },
    {
     "data": {
      "text/plain": [
       "Index(['Store', 'Dept', 'Date', 'IsHoliday', 'Temperature', 'Fuel_Price',\n",
       "       'MarkDown1', 'MarkDown2', 'MarkDown3', 'MarkDown4', 'MarkDown5', 'CPI',\n",
       "       'Unemployment', 'Type', 'Size'],\n",
       "      dtype='object')"
      ]
     },
     "execution_count": 3,
     "metadata": {},
     "output_type": "execute_result"
    }
   ],
   "source": [
    "#Data prep\n",
    "\n",
    "print(len(train))\n",
    "print(len(test))\n",
    "\n",
    "test.columns"
   ]
  },
  {
   "cell_type": "code",
   "execution_count": 4,
   "metadata": {},
   "outputs": [
    {
     "name": "stderr",
     "output_type": "stream",
     "text": [
      "/home/asun/.local/lib/python3.5/site-packages/ipykernel_launcher.py:1: FutureWarning: Sorting because non-concatenation axis is not aligned. A future version\n",
      "of pandas will change to not sort by default.\n",
      "\n",
      "To accept the future behavior, pass 'sort=False'.\n",
      "\n",
      "To retain the current behavior and silence the warning, pass 'sort=True'.\n",
      "\n",
      "  \"\"\"Entry point for launching an IPython kernel.\n"
     ]
    }
   ],
   "source": [
    "df = pd.concat([train,test], axis = 0)"
   ]
  },
  {
   "cell_type": "code",
   "execution_count": 5,
   "metadata": {},
   "outputs": [
    {
     "data": {
      "text/html": [
       "<div>\n",
       "<style scoped>\n",
       "    .dataframe tbody tr th:only-of-type {\n",
       "        vertical-align: middle;\n",
       "    }\n",
       "\n",
       "    .dataframe tbody tr th {\n",
       "        vertical-align: top;\n",
       "    }\n",
       "\n",
       "    .dataframe thead th {\n",
       "        text-align: right;\n",
       "    }\n",
       "</style>\n",
       "<table border=\"1\" class=\"dataframe\">\n",
       "  <thead>\n",
       "    <tr style=\"text-align: right;\">\n",
       "      <th></th>\n",
       "      <th>CPI</th>\n",
       "      <th>Date</th>\n",
       "      <th>Dept</th>\n",
       "      <th>Fuel_Price</th>\n",
       "      <th>IsHoliday</th>\n",
       "      <th>MarkDown1</th>\n",
       "      <th>MarkDown2</th>\n",
       "      <th>MarkDown3</th>\n",
       "      <th>MarkDown4</th>\n",
       "      <th>MarkDown5</th>\n",
       "      <th>Size</th>\n",
       "      <th>Store</th>\n",
       "      <th>Temperature</th>\n",
       "      <th>Type</th>\n",
       "      <th>Unemployment</th>\n",
       "      <th>Weekly_Sales</th>\n",
       "    </tr>\n",
       "  </thead>\n",
       "  <tbody>\n",
       "    <tr>\n",
       "      <th>0</th>\n",
       "      <td>136.213613</td>\n",
       "      <td>2011-08-26</td>\n",
       "      <td>92</td>\n",
       "      <td>3.796</td>\n",
       "      <td>False</td>\n",
       "      <td>NaN</td>\n",
       "      <td>NaN</td>\n",
       "      <td>NaN</td>\n",
       "      <td>NaN</td>\n",
       "      <td>NaN</td>\n",
       "      <td>152513</td>\n",
       "      <td>26</td>\n",
       "      <td>61.10</td>\n",
       "      <td>A</td>\n",
       "      <td>7.767</td>\n",
       "      <td>87235.57</td>\n",
       "    </tr>\n",
       "    <tr>\n",
       "      <th>1</th>\n",
       "      <td>128.616064</td>\n",
       "      <td>2011-03-25</td>\n",
       "      <td>22</td>\n",
       "      <td>3.480</td>\n",
       "      <td>False</td>\n",
       "      <td>NaN</td>\n",
       "      <td>NaN</td>\n",
       "      <td>NaN</td>\n",
       "      <td>NaN</td>\n",
       "      <td>NaN</td>\n",
       "      <td>158114</td>\n",
       "      <td>34</td>\n",
       "      <td>53.11</td>\n",
       "      <td>A</td>\n",
       "      <td>10.398</td>\n",
       "      <td>5945.97</td>\n",
       "    </tr>\n",
       "    <tr>\n",
       "      <th>2</th>\n",
       "      <td>211.265543</td>\n",
       "      <td>2010-12-03</td>\n",
       "      <td>28</td>\n",
       "      <td>2.708</td>\n",
       "      <td>False</td>\n",
       "      <td>NaN</td>\n",
       "      <td>NaN</td>\n",
       "      <td>NaN</td>\n",
       "      <td>NaN</td>\n",
       "      <td>NaN</td>\n",
       "      <td>140167</td>\n",
       "      <td>21</td>\n",
       "      <td>50.43</td>\n",
       "      <td>B</td>\n",
       "      <td>8.163</td>\n",
       "      <td>1219.89</td>\n",
       "    </tr>\n",
       "    <tr>\n",
       "      <th>3</th>\n",
       "      <td>214.878556</td>\n",
       "      <td>2010-09-17</td>\n",
       "      <td>9</td>\n",
       "      <td>2.582</td>\n",
       "      <td>False</td>\n",
       "      <td>NaN</td>\n",
       "      <td>NaN</td>\n",
       "      <td>NaN</td>\n",
       "      <td>NaN</td>\n",
       "      <td>NaN</td>\n",
       "      <td>155078</td>\n",
       "      <td>8</td>\n",
       "      <td>75.32</td>\n",
       "      <td>A</td>\n",
       "      <td>6.315</td>\n",
       "      <td>11972.71</td>\n",
       "    </tr>\n",
       "    <tr>\n",
       "      <th>4</th>\n",
       "      <td>138.106581</td>\n",
       "      <td>2012-05-18</td>\n",
       "      <td>55</td>\n",
       "      <td>4.029</td>\n",
       "      <td>False</td>\n",
       "      <td>12613.98</td>\n",
       "      <td>NaN</td>\n",
       "      <td>11.5</td>\n",
       "      <td>1705.28</td>\n",
       "      <td>3600.79</td>\n",
       "      <td>203819</td>\n",
       "      <td>19</td>\n",
       "      <td>58.81</td>\n",
       "      <td>A</td>\n",
       "      <td>8.150</td>\n",
       "      <td>8271.82</td>\n",
       "    </tr>\n",
       "  </tbody>\n",
       "</table>\n",
       "</div>"
      ],
      "text/plain": [
       "          CPI        Date  Dept  Fuel_Price  IsHoliday  MarkDown1  MarkDown2  \\\n",
       "0  136.213613  2011-08-26    92       3.796      False        NaN        NaN   \n",
       "1  128.616064  2011-03-25    22       3.480      False        NaN        NaN   \n",
       "2  211.265543  2010-12-03    28       2.708      False        NaN        NaN   \n",
       "3  214.878556  2010-09-17     9       2.582      False        NaN        NaN   \n",
       "4  138.106581  2012-05-18    55       4.029      False   12613.98        NaN   \n",
       "\n",
       "   MarkDown3  MarkDown4  MarkDown5    Size  Store  Temperature Type  \\\n",
       "0        NaN        NaN        NaN  152513     26        61.10    A   \n",
       "1        NaN        NaN        NaN  158114     34        53.11    A   \n",
       "2        NaN        NaN        NaN  140167     21        50.43    B   \n",
       "3        NaN        NaN        NaN  155078      8        75.32    A   \n",
       "4       11.5    1705.28    3600.79  203819     19        58.81    A   \n",
       "\n",
       "   Unemployment  Weekly_Sales  \n",
       "0         7.767      87235.57  \n",
       "1        10.398       5945.97  \n",
       "2         8.163       1219.89  \n",
       "3         6.315      11972.71  \n",
       "4         8.150       8271.82  "
      ]
     },
     "execution_count": 5,
     "metadata": {},
     "output_type": "execute_result"
    }
   ],
   "source": [
    "df.head()"
   ]
  },
  {
   "cell_type": "code",
   "execution_count": 6,
   "metadata": {},
   "outputs": [
    {
     "data": {
      "text/html": [
       "<div>\n",
       "<style scoped>\n",
       "    .dataframe tbody tr th:only-of-type {\n",
       "        vertical-align: middle;\n",
       "    }\n",
       "\n",
       "    .dataframe tbody tr th {\n",
       "        vertical-align: top;\n",
       "    }\n",
       "\n",
       "    .dataframe thead th {\n",
       "        text-align: right;\n",
       "    }\n",
       "</style>\n",
       "<table border=\"1\" class=\"dataframe\">\n",
       "  <thead>\n",
       "    <tr style=\"text-align: right;\">\n",
       "      <th></th>\n",
       "      <th>CPI</th>\n",
       "      <th>Dept</th>\n",
       "      <th>Fuel_Price</th>\n",
       "      <th>MarkDown1</th>\n",
       "      <th>MarkDown2</th>\n",
       "      <th>MarkDown3</th>\n",
       "      <th>MarkDown4</th>\n",
       "      <th>MarkDown5</th>\n",
       "      <th>Size</th>\n",
       "      <th>Store</th>\n",
       "      <th>Temperature</th>\n",
       "      <th>Unemployment</th>\n",
       "      <th>Weekly_Sales</th>\n",
       "    </tr>\n",
       "  </thead>\n",
       "  <tbody>\n",
       "    <tr>\n",
       "      <th>count</th>\n",
       "      <td>421570.000000</td>\n",
       "      <td>421570.000000</td>\n",
       "      <td>421570.000000</td>\n",
       "      <td>150681.000000</td>\n",
       "      <td>111248.000000</td>\n",
       "      <td>137091.000000</td>\n",
       "      <td>134967.000000</td>\n",
       "      <td>151432.000000</td>\n",
       "      <td>421570.000000</td>\n",
       "      <td>421570.000000</td>\n",
       "      <td>421570.000000</td>\n",
       "      <td>421570.000000</td>\n",
       "      <td>282451.000000</td>\n",
       "    </tr>\n",
       "    <tr>\n",
       "      <th>mean</th>\n",
       "      <td>171.201947</td>\n",
       "      <td>44.260317</td>\n",
       "      <td>3.361027</td>\n",
       "      <td>7246.420196</td>\n",
       "      <td>3334.628621</td>\n",
       "      <td>1439.421384</td>\n",
       "      <td>3383.168256</td>\n",
       "      <td>4628.975079</td>\n",
       "      <td>136727.915739</td>\n",
       "      <td>22.200546</td>\n",
       "      <td>60.090059</td>\n",
       "      <td>7.960289</td>\n",
       "      <td>15983.429692</td>\n",
       "    </tr>\n",
       "    <tr>\n",
       "      <th>std</th>\n",
       "      <td>39.159276</td>\n",
       "      <td>30.492054</td>\n",
       "      <td>0.458515</td>\n",
       "      <td>8291.221345</td>\n",
       "      <td>9475.357325</td>\n",
       "      <td>9623.078290</td>\n",
       "      <td>6292.384031</td>\n",
       "      <td>5962.887455</td>\n",
       "      <td>60980.583328</td>\n",
       "      <td>12.785297</td>\n",
       "      <td>18.447931</td>\n",
       "      <td>1.863296</td>\n",
       "      <td>22661.092494</td>\n",
       "    </tr>\n",
       "    <tr>\n",
       "      <th>min</th>\n",
       "      <td>126.064000</td>\n",
       "      <td>1.000000</td>\n",
       "      <td>2.472000</td>\n",
       "      <td>0.270000</td>\n",
       "      <td>-265.760000</td>\n",
       "      <td>-29.100000</td>\n",
       "      <td>0.220000</td>\n",
       "      <td>135.160000</td>\n",
       "      <td>34875.000000</td>\n",
       "      <td>1.000000</td>\n",
       "      <td>-2.060000</td>\n",
       "      <td>3.879000</td>\n",
       "      <td>-4988.940000</td>\n",
       "    </tr>\n",
       "    <tr>\n",
       "      <th>25%</th>\n",
       "      <td>132.022667</td>\n",
       "      <td>18.000000</td>\n",
       "      <td>2.933000</td>\n",
       "      <td>2240.270000</td>\n",
       "      <td>41.600000</td>\n",
       "      <td>5.080000</td>\n",
       "      <td>504.220000</td>\n",
       "      <td>1878.440000</td>\n",
       "      <td>93638.000000</td>\n",
       "      <td>11.000000</td>\n",
       "      <td>46.680000</td>\n",
       "      <td>6.891000</td>\n",
       "      <td>2079.330000</td>\n",
       "    </tr>\n",
       "    <tr>\n",
       "      <th>50%</th>\n",
       "      <td>182.318780</td>\n",
       "      <td>37.000000</td>\n",
       "      <td>3.452000</td>\n",
       "      <td>5347.450000</td>\n",
       "      <td>192.000000</td>\n",
       "      <td>24.600000</td>\n",
       "      <td>1481.310000</td>\n",
       "      <td>3359.450000</td>\n",
       "      <td>140167.000000</td>\n",
       "      <td>22.000000</td>\n",
       "      <td>62.090000</td>\n",
       "      <td>7.866000</td>\n",
       "      <td>7616.550000</td>\n",
       "    </tr>\n",
       "    <tr>\n",
       "      <th>75%</th>\n",
       "      <td>212.416993</td>\n",
       "      <td>74.000000</td>\n",
       "      <td>3.738000</td>\n",
       "      <td>9210.900000</td>\n",
       "      <td>1926.940000</td>\n",
       "      <td>103.990000</td>\n",
       "      <td>3595.040000</td>\n",
       "      <td>5563.800000</td>\n",
       "      <td>202505.000000</td>\n",
       "      <td>33.000000</td>\n",
       "      <td>74.280000</td>\n",
       "      <td>8.572000</td>\n",
       "      <td>20245.745000</td>\n",
       "    </tr>\n",
       "    <tr>\n",
       "      <th>max</th>\n",
       "      <td>227.232807</td>\n",
       "      <td>99.000000</td>\n",
       "      <td>4.468000</td>\n",
       "      <td>88646.760000</td>\n",
       "      <td>104519.540000</td>\n",
       "      <td>141630.610000</td>\n",
       "      <td>67474.850000</td>\n",
       "      <td>108519.280000</td>\n",
       "      <td>219622.000000</td>\n",
       "      <td>45.000000</td>\n",
       "      <td>100.140000</td>\n",
       "      <td>14.313000</td>\n",
       "      <td>693099.360000</td>\n",
       "    </tr>\n",
       "  </tbody>\n",
       "</table>\n",
       "</div>"
      ],
      "text/plain": [
       "                 CPI           Dept     Fuel_Price      MarkDown1  \\\n",
       "count  421570.000000  421570.000000  421570.000000  150681.000000   \n",
       "mean      171.201947      44.260317       3.361027    7246.420196   \n",
       "std        39.159276      30.492054       0.458515    8291.221345   \n",
       "min       126.064000       1.000000       2.472000       0.270000   \n",
       "25%       132.022667      18.000000       2.933000    2240.270000   \n",
       "50%       182.318780      37.000000       3.452000    5347.450000   \n",
       "75%       212.416993      74.000000       3.738000    9210.900000   \n",
       "max       227.232807      99.000000       4.468000   88646.760000   \n",
       "\n",
       "           MarkDown2      MarkDown3      MarkDown4      MarkDown5  \\\n",
       "count  111248.000000  137091.000000  134967.000000  151432.000000   \n",
       "mean     3334.628621    1439.421384    3383.168256    4628.975079   \n",
       "std      9475.357325    9623.078290    6292.384031    5962.887455   \n",
       "min      -265.760000     -29.100000       0.220000     135.160000   \n",
       "25%        41.600000       5.080000     504.220000    1878.440000   \n",
       "50%       192.000000      24.600000    1481.310000    3359.450000   \n",
       "75%      1926.940000     103.990000    3595.040000    5563.800000   \n",
       "max    104519.540000  141630.610000   67474.850000  108519.280000   \n",
       "\n",
       "                Size          Store    Temperature   Unemployment  \\\n",
       "count  421570.000000  421570.000000  421570.000000  421570.000000   \n",
       "mean   136727.915739      22.200546      60.090059       7.960289   \n",
       "std     60980.583328      12.785297      18.447931       1.863296   \n",
       "min     34875.000000       1.000000      -2.060000       3.879000   \n",
       "25%     93638.000000      11.000000      46.680000       6.891000   \n",
       "50%    140167.000000      22.000000      62.090000       7.866000   \n",
       "75%    202505.000000      33.000000      74.280000       8.572000   \n",
       "max    219622.000000      45.000000     100.140000      14.313000   \n",
       "\n",
       "        Weekly_Sales  \n",
       "count  282451.000000  \n",
       "mean    15983.429692  \n",
       "std     22661.092494  \n",
       "min     -4988.940000  \n",
       "25%      2079.330000  \n",
       "50%      7616.550000  \n",
       "75%     20245.745000  \n",
       "max    693099.360000  "
      ]
     },
     "execution_count": 6,
     "metadata": {},
     "output_type": "execute_result"
    }
   ],
   "source": [
    "df.describe()"
   ]
  },
  {
   "cell_type": "code",
   "execution_count": 7,
   "metadata": {},
   "outputs": [
    {
     "data": {
      "text/plain": [
       "CPI                  0\n",
       "Date                 0\n",
       "Dept                 0\n",
       "Fuel_Price           0\n",
       "IsHoliday            0\n",
       "MarkDown1       270889\n",
       "MarkDown2       310322\n",
       "MarkDown3       284479\n",
       "MarkDown4       286603\n",
       "MarkDown5       270138\n",
       "Size                 0\n",
       "Store                0\n",
       "Temperature          0\n",
       "Type                 0\n",
       "Unemployment         0\n",
       "Weekly_Sales    139119\n",
       "dtype: int64"
      ]
     },
     "execution_count": 7,
     "metadata": {},
     "output_type": "execute_result"
    }
   ],
   "source": [
    "#check for missing data\n",
    "\n",
    "df.isnull().sum()"
   ]
  },
  {
   "cell_type": "code",
   "execution_count": 8,
   "metadata": {},
   "outputs": [],
   "source": [
    "# basic feature engineering to indicate whether a markdown was active\n",
    "\n",
    "df = df.assign(md1_present = df.MarkDown1.notnull())\n",
    "df = df.assign(md2_present = df.MarkDown2.notnull())\n",
    "df = df.assign(md3_present = df.MarkDown3.notnull())\n",
    "df = df.assign(md4_present = df.MarkDown4.notnull())\n",
    "df = df.assign(md5_present = df.MarkDown5.notnull())"
   ]
  },
  {
   "cell_type": "code",
   "execution_count": 9,
   "metadata": {},
   "outputs": [],
   "source": [
    "# fill in missing values with zero\n",
    "\n",
    "df.fillna(0, inplace=True)"
   ]
  },
  {
   "cell_type": "code",
   "execution_count": 10,
   "metadata": {},
   "outputs": [],
   "source": [
    "#normalize \n",
    "df['Unemployment'] = (df['Unemployment'] - df['Unemployment'].mean())/(df['Unemployment'].std())"
   ]
  },
  {
   "cell_type": "code",
   "execution_count": 11,
   "metadata": {
    "scrolled": true
   },
   "outputs": [
    {
     "name": "stderr",
     "output_type": "stream",
     "text": [
      "/usr/lib/python3/dist-packages/scipy/stats/stats.py:1857: FutureWarning: Using a non-tuple sequence for multidimensional indexing is deprecated; use `arr[tuple(seq)]` instead of `arr[seq]`. In the future this will be interpreted as an array index, `arr[np.array(seq)]`, which will result either in an error or a different result.\n",
      "  return np.add.reduce(sorted[indexer] * weights, axis=axis) / sumval\n"
     ]
    },
    {
     "data": {
      "text/plain": [
       "<matplotlib.axes._subplots.AxesSubplot at 0x7f64eb550b00>"
      ]
     },
     "execution_count": 11,
     "metadata": {},
     "output_type": "execute_result"
    },
    {
     "data": {
      "image/png": "[encoded data removed]",
      "text/plain": [
       "<Figure size 432x288 with 1 Axes>"
      ]
     },
     "metadata": {},
     "output_type": "display_data"
    }
   ],
   "source": [
    "sns.distplot(df['Unemployment'])"
   ]
  },
  {
   "cell_type": "code",
   "execution_count": 12,
   "metadata": {},
   "outputs": [
    {
     "data": {
      "text/plain": [
       "CPI             float64\n",
       "Date             object\n",
       "Dept              int64\n",
       "Fuel_Price      float64\n",
       "IsHoliday          bool\n",
       "MarkDown1       float64\n",
       "MarkDown2       float64\n",
       "MarkDown3       float64\n",
       "MarkDown4       float64\n",
       "MarkDown5       float64\n",
       "Size              int64\n",
       "Store             int64\n",
       "Temperature     float64\n",
       "Type             object\n",
       "Unemployment    float64\n",
       "Weekly_Sales    float64\n",
       "md1_present        bool\n",
       "md2_present        bool\n",
       "md3_present        bool\n",
       "md4_present        bool\n",
       "md5_present        bool\n",
       "dtype: object"
      ]
     },
     "execution_count": 12,
     "metadata": {},
     "output_type": "execute_result"
    }
   ],
   "source": [
    "df.dtypes"
   ]
  },
  {
   "cell_type": "code",
   "execution_count": 13,
   "metadata": {},
   "outputs": [],
   "source": [
    "# Dummy variables for categorical data\n",
    "\n",
    "# Update values in the columns so we can later recognize what a dummy once belonged to\n",
    "df['Type'] = 'Type_' + df['Type'].map(str)\n",
    "df['Store'] = 'Store_' + df['Store'].map(str)\n",
    "df['Dept'] = 'Dept_' + df['Dept'].map(str)\n",
    "\n",
    "# Create dummies\n",
    "type_dummies = pd.get_dummies(df['Type'])\n",
    "store_dummies = pd.get_dummies(df['Store'])\n",
    "dept_dummies = pd.get_dummies(df['Dept'])"
   ]
  },
  {
   "cell_type": "code",
   "execution_count": 14,
   "metadata": {},
   "outputs": [],
   "source": [
    "# Add dummies to df\n",
    "df = pd.concat([df,type_dummies,store_dummies,dept_dummies],axis=1)"
   ]
  },
  {
   "cell_type": "code",
   "execution_count": 15,
   "metadata": {},
   "outputs": [],
   "source": [
    "# Remove originals\n",
    "del df['Type']\n",
    "del df['Store']\n",
    "del df['Dept']"
   ]
  },
  {
   "cell_type": "code",
   "execution_count": 16,
   "metadata": {},
   "outputs": [
    {
     "data": {
      "text/plain": [
       "CPI             float64\n",
       "Date             object\n",
       "Fuel_Price      float64\n",
       "IsHoliday          bool\n",
       "MarkDown1       float64\n",
       "MarkDown2       float64\n",
       "MarkDown3       float64\n",
       "MarkDown4       float64\n",
       "MarkDown5       float64\n",
       "Size              int64\n",
       "Temperature     float64\n",
       "Unemployment    float64\n",
       "Weekly_Sales    float64\n",
       "md1_present        bool\n",
       "md2_present        bool\n",
       "md3_present        bool\n",
       "md4_present        bool\n",
       "md5_present        bool\n",
       "Type_A            uint8\n",
       "Type_B            uint8\n",
       "Type_C            uint8\n",
       "Store_1           uint8\n",
       "Store_10          uint8\n",
       "Store_11          uint8\n",
       "Store_12          uint8\n",
       "Store_13          uint8\n",
       "Store_14          uint8\n",
       "Store_15          uint8\n",
       "Store_16          uint8\n",
       "Store_17          uint8\n",
       "                 ...   \n",
       "Dept_59           uint8\n",
       "Dept_6            uint8\n",
       "Dept_60           uint8\n",
       "Dept_65           uint8\n",
       "Dept_67           uint8\n",
       "Dept_7            uint8\n",
       "Dept_71           uint8\n",
       "Dept_72           uint8\n",
       "Dept_74           uint8\n",
       "Dept_77           uint8\n",
       "Dept_78           uint8\n",
       "Dept_79           uint8\n",
       "Dept_8            uint8\n",
       "Dept_80           uint8\n",
       "Dept_81           uint8\n",
       "Dept_82           uint8\n",
       "Dept_83           uint8\n",
       "Dept_85           uint8\n",
       "Dept_87           uint8\n",
       "Dept_9            uint8\n",
       "Dept_90           uint8\n",
       "Dept_91           uint8\n",
       "Dept_92           uint8\n",
       "Dept_93           uint8\n",
       "Dept_94           uint8\n",
       "Dept_95           uint8\n",
       "Dept_96           uint8\n",
       "Dept_97           uint8\n",
       "Dept_98           uint8\n",
       "Dept_99           uint8\n",
       "Length: 147, dtype: object"
      ]
     },
     "execution_count": 16,
     "metadata": {},
     "output_type": "execute_result"
    }
   ],
   "source": [
    "df.dtypes"
   ]
  },
  {
   "cell_type": "code",
   "execution_count": 17,
   "metadata": {},
   "outputs": [],
   "source": [
    "# because this is a very simple linear regression, we will ignore the date\n",
    "\n",
    "del df['Date']"
   ]
  },
  {
   "cell_type": "code",
   "execution_count": 18,
   "metadata": {},
   "outputs": [],
   "source": [
    "# now we can split the train and test data again\n",
    "\n",
    "train = df.iloc[:282451]\n",
    "test = df.iloc[282451:]\n"
   ]
  },
  {
   "cell_type": "code",
   "execution_count": 19,
   "metadata": {},
   "outputs": [],
   "source": [
    "z = test['Weekly_Sales'].values\n",
    "test = test.drop('Weekly_Sales',axis=1) # We should remove the nonsense values from test"
   ]
  },
  {
   "cell_type": "code",
   "execution_count": 20,
   "metadata": {},
   "outputs": [
    {
     "data": {
      "text/plain": [
       "(282451,)"
      ]
     },
     "execution_count": 20,
     "metadata": {},
     "output_type": "execute_result"
    }
   ],
   "source": [
    "# To get numpy arrays out of the pandas dataframe, we can ask for a columns, or dataframes values\n",
    "y = train['Weekly_Sales'].values\n",
    "y.shape"
   ]
  },
  {
   "cell_type": "code",
   "execution_count": 21,
   "metadata": {},
   "outputs": [],
   "source": [
    "X = train.drop('Weekly_Sales',axis=1).values"
   ]
  },
  {
   "cell_type": "code",
   "execution_count": 22,
   "metadata": {},
   "outputs": [
    {
     "data": {
      "text/plain": [
       "(282451, 145)"
      ]
     },
     "execution_count": 22,
     "metadata": {},
     "output_type": "execute_result"
    }
   ],
   "source": [
    "X.shape"
   ]
  },
  {
   "cell_type": "code",
   "execution_count": 23,
   "metadata": {},
   "outputs": [
    {
     "name": "stderr",
     "output_type": "stream",
     "text": [
      "Using TensorFlow backend.\n"
     ]
    }
   ],
   "source": [
    "# Now we create the baseline model\n",
    "\n",
    "from keras.layers import Dense, Activation\n",
    "from keras.models import Sequential"
   ]
  },
  {
   "cell_type": "code",
   "execution_count": 24,
   "metadata": {},
   "outputs": [],
   "source": [
    "model = Sequential()\n",
    "model.add(Dense(1, input_dim = 145))\n",
    "model.compile(optimizer = 'adam', loss = 'mae')"
   ]
  },
  {
   "cell_type": "code",
   "execution_count": 25,
   "metadata": {},
   "outputs": [
    {
     "name": "stdout",
     "output_type": "stream",
     "text": [
      "Epoch 1/5\n",
      "282451/282451 [==============================] - 8s 28us/step - loss: 28326.8243\n",
      "Epoch 2/5\n",
      "282451/282451 [==============================] - 8s 28us/step - loss: 14142.1083\n",
      "Epoch 3/5\n",
      "282451/282451 [==============================] - 8s 27us/step - loss: 13032.7828\n",
      "Epoch 4/5\n",
      "282451/282451 [==============================] - 8s 27us/step - loss: 13001.5184\n",
      "Epoch 5/5\n",
      "282451/282451 [==============================] - 8s 27us/step - loss: 12989.0092\n"
     ]
    },
    {
     "data": {
      "text/plain": [
       "<keras.callbacks.History at 0x7f64bbbbff28>"
      ]
     },
     "execution_count": 25,
     "metadata": {},
     "output_type": "execute_result"
    }
   ],
   "source": [
    "model.fit(X, y, batch_size = 2048, epochs= 5)\n",
    "\n",
    "# An epoch is a measure of the number of times all of the training vectors are used once to update the weights."
   ]
  },
  {
   "cell_type": "code",
   "execution_count": 26,
   "metadata": {},
   "outputs": [],
   "source": [
    "# Predict on the test set with newly created model\n",
    "\n",
    "X_test = test.values"
   ]
  },
  {
   "cell_type": "code",
   "execution_count": 27,
   "metadata": {},
   "outputs": [
    {
     "name": "stdout",
     "output_type": "stream",
     "text": [
      "[[14193.163 ]\n",
      " [ 7153.9   ]\n",
      " [ 2269.2402]\n",
      " ...\n",
      " [ 2473.7056]\n",
      " [12400.032 ]\n",
      " [12527.026 ]]\n"
     ]
    }
   ],
   "source": [
    "y_pred = model.predict(X_test, batch_size = 2048)\n",
    "print(y_pred)"
   ]
  },
  {
   "cell_type": "code",
   "execution_count": 28,
   "metadata": {},
   "outputs": [],
   "source": [
    "# To create the ids required for the submission we need the original test file one more time\n",
    "\n",
    "testfile = pd.read_csv('test.csv')"
   ]
  },
  {
   "cell_type": "code",
   "execution_count": 29,
   "metadata": {},
   "outputs": [],
   "source": [
    "# Create the submission\n",
    "\n",
    "submission = pd.DataFrame({'id':testfile['Store'].map(str) + '_' + testfile['Dept'].map(str) + '_' + testfile['Date'].map(str),\n",
    "                          'Weekly_Sales':y_pred.flatten()})"
   ]
  },
  {
   "cell_type": "code",
   "execution_count": 30,
   "metadata": {},
   "outputs": [],
   "source": [
    "submission.to_csv('linreg.csv',index=False)"
   ]
  },
  {
   "cell_type": "code",
   "execution_count": 31,
   "metadata": {},
   "outputs": [],
   "source": [
    "from sklearn import metrics"
   ]
  },
  {
   "cell_type": "code",
   "execution_count": 32,
   "metadata": {},
   "outputs": [
    {
     "name": "stdout",
     "output_type": "stream",
     "text": [
      "8072.817709369605\n"
     ]
    }
   ],
   "source": [
    "print(metrics.mean_absolute_error(z, y_pred))\n"
   ]
  },
  {
   "cell_type": "code",
   "execution_count": 33,
   "metadata": {},
   "outputs": [
    {
     "data": {
      "image/png": "[encoded data removed]",
      "text/plain": [
       "<Figure size 432x288 with 1 Axes>"
      ]
     },
     "metadata": {},
     "output_type": "display_data"
    }
   ],
   "source": [
    "plt.scatter(z, y_pred)\n",
    "plt.plot(z, y_pred, color='red')\n",
    "plt.show()"
   ]
  },
  {
   "cell_type": "code",
   "execution_count": null,
   "metadata": {},
   "outputs": [],
   "source": []
  }
 ],
 "metadata": {
  "kernelspec": {
   "display_name": "Python 3",
   "language": "python",
   "name": "python3"
  },
  "language_info": {
   "codemirror_mode": {
    "name": "ipython",
    "version": 3
   },
   "file_extension": ".py",
   "mimetype": "text/x-python",
   "name": "python",
   "nbconvert_exporter": "python",
   "pygments_lexer": "ipython3",
   "version": "3.5.2"
  }
 },
 "nbformat": 4,
 "nbformat_minor": 2
}
